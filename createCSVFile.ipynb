{
 "cells": [
  {
   "cell_type": "markdown",
   "metadata": {},
   "source": [
    "Convert CSV files to represent their own collection "
   ]
  },
  {
   "cell_type": "code",
   "execution_count": 1,
   "metadata": {},
   "outputs": [],
   "source": [
    "import pandas as pd\n"
   ]
  },
  {
   "cell_type": "code",
   "execution_count": 11,
   "metadata": {},
   "outputs": [
    {
     "name": "stdout",
     "output_type": "stream",
     "text": [
      "      collection_name                                      retweeted_url  \\\n",
      "0     collection_0001  https://noticias.uol.com.br/politica/eleicoes/...   \n",
      "1     collection_0002                 https://oantagonista.com/?p=123030   \n",
      "2     collection_0003  https://noticias.uol.com.br/politica/eleicoes/...   \n",
      "3     collection_0004  https://g1.globo.com/rn/rio-grande-do-norte/no...   \n",
      "4     collection_0005  https://noticias.uol.com.br/politica/eleicoes/...   \n",
      "...               ...                                                ...   \n",
      "2316  collection_2317  http://poder360.com.br/governo/bolsonaro-admit...   \n",
      "2317  collection_2318  https://ultimosegundo.ig.com.br/politica/2018-...   \n",
      "2318  collection_2319  https://opovo.com.br/noticias/politica/ae/2018...   \n",
      "2319  collection_2320  https://ultimosegundo.ig.com.br/politica/2018-...   \n",
      "2320  collection_2321  http://sbt.com.br/jornalismo/sbtbrasil/noticia...   \n",
      "\n",
      "      retweets_count     RP(H)  \n",
      "0               1549 -0.519216  \n",
      "1               1313  0.637866  \n",
      "2               1172 -0.432150  \n",
      "3               1103 -0.344342  \n",
      "4                983 -0.521477  \n",
      "...              ...       ...  \n",
      "2316               2  0.800000  \n",
      "2317               2  0.867727  \n",
      "2318               2  0.900000  \n",
      "2319               2  0.917271  \n",
      "2320               2  1.000000  \n",
      "\n",
      "[2321 rows x 4 columns]\n"
     ]
    }
   ],
   "source": [
    "dfOld = pd.read_csv('URLs/retweeted_urls_rph_BRA.csv')\n",
    "dfNew = pd.read_csv('/home/willdoliver/Downloads/retweeted_urls_rph_BRA.csv')\n",
    "# print(dfOld)\n",
    "# print(dfNew)\n",
    "\n",
    "dfOld.drop(['RP(H)'],axis=1,inplace=True)\n",
    "dfNew.drop(['retweets_count'],axis=1,inplace=True)\n",
    "\n",
    "dfMerged = pd.merge(dfOld, dfNew, how=\"left\", on=[\"retweeted_url\"])\n",
    "print(dfMerged)\n",
    "dfMerged.to_csv(\"URLs/retweeted_urls_rph_BRA.csv\", index=False)"
   ]
  }
 ],
 "metadata": {
  "interpreter": {
   "hash": "a1c792eccadb184757d48f87a083e89662af52e84ce69b52b958a69701cb6c3d"
  },
  "kernelspec": {
   "display_name": "Python 3.8.5 64-bit ('base': conda)",
   "language": "python",
   "name": "python3"
  },
  "language_info": {
   "codemirror_mode": {
    "name": "ipython",
    "version": 3
   },
   "file_extension": ".py",
   "mimetype": "text/x-python",
   "name": "python",
   "nbconvert_exporter": "python",
   "pygments_lexer": "ipython3",
   "version": "3.8.5"
  },
  "orig_nbformat": 4
 },
 "nbformat": 4,
 "nbformat_minor": 2
}
